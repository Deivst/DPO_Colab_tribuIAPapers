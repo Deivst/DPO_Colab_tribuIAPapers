Puedes hacerlo abriendo el archivo del notebook (.ipynb) en Visual Studio Code y editando el JSON manualmente. Aquí te dejo los pasos:

Abrir el archivo:
Abre Visual Studio Code y, desde el menú o el explorador de archivos, abre el archivo .ipynb que estás utilizando.

Abrir el archivo en formato JSON:
Aunque VS Code puede mostrar los notebooks en su vista visual, para editar los metadatos es más sencillo abrirlo en modo JSON.

Haz clic derecho sobre el archivo en el explorador de VS Code y selecciona “Abrir con…” y elige “Editor de texto” o “Abrir como JSON”.

Otra opción es renombrar temporalmente el archivo a .json para facilitar la edición y luego volver a cambiarlo a .ipynb (asegúrate de tener una copia de respaldo).

Localizar la sección "metadata.widgets":

Usa la función de búsqueda (Ctrl+F o Cmd+F) para localizar la cadena "metadata.widgets".

Se encontrará algo similar a esto:

json
Copiar
"metadata": {
    "widgets": {
        "someWidget": {
            "model_id": "1234"
        }
    }
}
Agregar la clave "state" o eliminar la sección:

Para agregar la clave "state":
Modifica cada widget agregando la propiedad "state": {}. Por ejemplo:

json
Copiar
"metadata": {
    "widgets": {
        "someWidget": {
            "model_id": "1234",
            "state": {}
        }
    }
}
Para eliminar la sección:
Si no usas widgets interactivos, puedes borrar la sección completa "widgets" de los metadatos. Solo elimina la línea o bloque correspondiente y asegúrate de que la estructura JSON siga siendo
